{
  "nbformat": 4,
  "nbformat_minor": 0,
  "metadata": {
    "colab": {
      "provenance": []
    },
    "kernelspec": {
      "name": "python3",
      "display_name": "Python 3"
    },
    "language_info": {
      "name": "python"
    }
  },
  "cells": [
    {
      "cell_type": "code",
      "execution_count": null,
      "metadata": {
        "id": "KPqS8vDWfdiY"
      },
      "outputs": [],
      "source": [
        "#all important stuff to make sure code runs well\n",
        "from sklearn import svm\n",
        "import pandas as pd\n",
        "import numpy as np\n",
        "import matplotlib.pyplot as plt\n",
        "import os\n",
        "from sklearn.model_selection import train_test_split\n",
        "from sklearn import metrics\n",
        "from sklearn.linear_model import LogisticRegression\n",
        "from sklearn.metrics import confusion_matrix\n",
        "import itertools\n",
        "import random\n",
        "from sklearn.compose import ColumnTransformer\n",
        "from sklearn.pipeline import Pipeline\n",
        "from sklearn.preprocessing import StandardScaler\n",
        "from sklearn.preprocessing import OneHotEncoder\n",
        "random.seed(42)\n"
      ]
    },
    {
      "cell_type": "code",
      "source": [
        "#loading the data set\n",
        "data = pd.read_csv('cardio_train.csv', sep = ';')"
      ],
      "metadata": {
        "id": "KNdg1tA_fnTq"
      },
      "execution_count": null,
      "outputs": []
    },
    {
      "cell_type": "code",
      "source": [
        "#check for null values\n",
        "null_rows = data[data.isnull().any(axis=1)].head()\n",
        "#print(null_rows.head()) #-->no null values\n",
        "\n",
        "#check whether data set is balanced\n",
        "sick = data['cardio'].value_counts()[1]\n",
        "healthy = len(data) - data['cardio'].value_counts()[1]\n",
        "#print(\"sick: \", sick, \"individuals; healthy: \", healthy, \"individuals\")\n",
        "\n",
        "data_target = data['cardio']\n",
        "data['BMI'] = data['weight'] / (data['height'] / 100)**2\n",
        "#convert age to years so we can interpret it better\n",
        "data['age'] = data['age'] / 365\n",
        "#check correlations of features to target value\n",
        "numerdata = data.drop(columns=['gender', 'cholesterol', 'gluc',\t'smoke',\t'alco','active','BMI'])\n",
        "print(numerdata.corr()['cardio'].sort_values(ascending=False))\n",
        "\n",
        "#dropping the label column & id feature\n",
        "data = data.drop(columns=['cardio', 'id','height'])\n"
      ],
      "metadata": {
        "colab": {
          "base_uri": "https://localhost:8080/"
        },
        "id": "kEterZuFfqEh",
        "outputId": "96d5f6fc-017d-4354-e1ab-37e13e996d26"
      },
      "execution_count": null,
      "outputs": [
        {
          "output_type": "stream",
          "name": "stdout",
          "text": [
            "cardio    1.000000\n",
            "age       0.238159\n",
            "weight    0.181660\n",
            "ap_lo     0.065719\n",
            "ap_hi     0.054475\n",
            "id        0.003799\n",
            "height   -0.010821\n",
            "Name: cardio, dtype: float64\n"
          ]
        }
      ]
    },
    {
      "cell_type": "code",
      "source": [
        "#one-hot encoding the categorical features & normalizing the numerical features\n",
        "numerical_features = ['age', 'weight', 'ap_hi', 'ap_lo']\n",
        "categorical_features = ['gender', 'cholesterol', 'gluc',\t'smoke',\t'alco','active']\n",
        "full_pipeline = ColumnTransformer([\n",
        "    (\"num\", StandardScaler(), numerical_features),\n",
        "     (\"cat\", OneHotEncoder(), categorical_features)\n",
        "    ])\n",
        "\n",
        "data = full_pipeline.fit_transform(data)\n",
        "categorical_feature_names = full_pipeline.named_transformers_['cat'].get_feature_names_out(categorical_features)\n",
        "\n",
        "# Combine numerical and categorical feature names\n",
        "all_feature_names = numerical_features + list(categorical_feature_names)\n",
        "\n",
        "# Create the DataFrame\n",
        "transformed_df = pd.DataFrame(data, columns=all_feature_names)\n",
        "\n",
        "data = transformed_df\n",
        "print(data)"
      ],
      "metadata": {
        "colab": {
          "base_uri": "https://localhost:8080/"
        },
        "id": "mu-JTg5FfwRY",
        "outputId": "7d341e9b-cd15-4e5e-d046-e9971fe26e8f"
      },
      "execution_count": null,
      "outputs": [
        {
          "output_type": "stream",
          "name": "stdout",
          "text": [
            "            age    weight     ap_hi     ap_lo  gender_1  gender_2  \\\n",
            "0     -0.436062 -0.847873 -0.122182 -0.088238       0.0       1.0   \n",
            "1      0.307686  0.749831  0.072610 -0.035180       1.0       0.0   \n",
            "2     -0.247997 -0.708942  0.007679 -0.141297       1.0       0.0   \n",
            "3     -0.748152  0.541435  0.137541  0.017879       0.0       1.0   \n",
            "4     -0.808543 -1.264666 -0.187113 -0.194356       1.0       0.0   \n",
            "...         ...       ...       ...       ...       ...       ...   \n",
            "69995 -0.092762  0.124642 -0.057251 -0.088238       0.0       1.0   \n",
            "69996  1.269492  3.597913  0.072610 -0.035180       1.0       0.0   \n",
            "69997 -0.163286  2.139139  0.332333 -0.035180       0.0       1.0   \n",
            "69998  1.200589 -0.153219  0.040145 -0.088238       1.0       0.0   \n",
            "69999  0.434144 -0.153219 -0.057251 -0.088238       1.0       0.0   \n",
            "\n",
            "       cholesterol_1  cholesterol_2  cholesterol_3  gluc_1  gluc_2  gluc_3  \\\n",
            "0                1.0            0.0            0.0     1.0     0.0     0.0   \n",
            "1                0.0            0.0            1.0     1.0     0.0     0.0   \n",
            "2                0.0            0.0            1.0     1.0     0.0     0.0   \n",
            "3                1.0            0.0            0.0     1.0     0.0     0.0   \n",
            "4                1.0            0.0            0.0     1.0     0.0     0.0   \n",
            "...              ...            ...            ...     ...     ...     ...   \n",
            "69995            1.0            0.0            0.0     1.0     0.0     0.0   \n",
            "69996            0.0            1.0            0.0     0.0     1.0     0.0   \n",
            "69997            0.0            0.0            1.0     1.0     0.0     0.0   \n",
            "69998            1.0            0.0            0.0     0.0     1.0     0.0   \n",
            "69999            0.0            1.0            0.0     1.0     0.0     0.0   \n",
            "\n",
            "       smoke_0  smoke_1  alco_0  alco_1  active_0  active_1  \n",
            "0          1.0      0.0     1.0     0.0       0.0       1.0  \n",
            "1          1.0      0.0     1.0     0.0       0.0       1.0  \n",
            "2          1.0      0.0     1.0     0.0       1.0       0.0  \n",
            "3          1.0      0.0     1.0     0.0       0.0       1.0  \n",
            "4          1.0      0.0     1.0     0.0       1.0       0.0  \n",
            "...        ...      ...     ...     ...       ...       ...  \n",
            "69995      0.0      1.0     1.0     0.0       0.0       1.0  \n",
            "69996      1.0      0.0     1.0     0.0       0.0       1.0  \n",
            "69997      1.0      0.0     0.0     1.0       1.0       0.0  \n",
            "69998      1.0      0.0     1.0     0.0       1.0       0.0  \n",
            "69999      1.0      0.0     1.0     0.0       0.0       1.0  \n",
            "\n",
            "[70000 rows x 18 columns]\n"
          ]
        }
      ]
    },
    {
      "cell_type": "code",
      "source": [
        "#splitting the data for training & testing\n",
        "train, test, target, target_test = train_test_split(data, data_target, test_size = 0.2, random_state = 42)"
      ],
      "metadata": {
        "id": "kvlcturYg8oM"
      },
      "execution_count": null,
      "outputs": []
    },
    {
      "cell_type": "code",
      "source": [
        "def plot_roc_curve(target, score):\n",
        "    fpr_log_reg, tpr_log_reg, thresholds = metrics.roc_curve(target, score)\n",
        "    plt.figure(1)\n",
        "    plt.plot(fpr_log_reg, tpr_log_reg, color='orange', lw=1)\n",
        "    plt.xlabel('FPR')\n",
        "    plt.ylabel('TPR')\n",
        "    plt.show()\n",
        "    # Print the area under ROC, which is also called \"AUC (Area Under the ROC curve)\"\n",
        "    aucroc = metrics.auc(fpr_log_reg, tpr_log_reg)\n",
        "    print('\\nAUC of ROC: ', aucroc)\n",
        "\n",
        "def print_four_metrics(target, predicted):\n",
        "    print(\"%-12s %f\" % ('Accuracy:', metrics.accuracy_score(target, predicted)))\n",
        "    print(\"%-12s %f\" % ('Precision:', metrics.precision_score(target, predicted, labels=None, pos_label=1, average='binary', sample_weight=None)))\n",
        "    print(\"%-12s %f\" % ('Recall:', metrics.recall_score(target, predicted, labels=None, pos_label=1, average='binary', sample_weight=None)))\n",
        "    print(\"%-12s %f\" % ('F1 Score:', metrics.f1_score(target, predicted, labels=None, pos_label=1, average='binary', sample_weight=None)))"
      ],
      "metadata": {
        "id": "2EDy8MRWhR1-"
      },
      "execution_count": null,
      "outputs": []
    },
    {
      "cell_type": "code",
      "source": [
        "from sklearn.neural_network import MLPClassifier\n",
        "from sklearn.model_selection import KFold"
      ],
      "metadata": {
        "id": "ltwu-NVwhcTW"
      },
      "execution_count": null,
      "outputs": []
    },
    {
      "cell_type": "code",
      "source": [
        "###k-fold\n",
        "ktrain = train.to_numpy()\n",
        "ktarget = target.to_numpy()\n",
        "kfold = KFold(n_splits=10, shuffle=True, random_state=42)\n",
        "mlpfold = []\n",
        "accuracies = []\n",
        "fold_num=1\n",
        "for train_index, val_index in kfold.split(ktrain):\n",
        "    X_train_fold, X_val_fold = ktrain[train_index], ktrain[val_index]\n",
        "    y_train_fold, y_val_fold = ktarget[train_index], ktarget[val_index]\n",
        "    hidden_layer_architecture = (25,25)\n",
        "    mlp = MLPClassifier(hidden_layer_sizes=hidden_layer_architecture,\n",
        "                        max_iter=100, alpha=1e-4,\n",
        "                        solver='sgd', verbose=False, tol=1e-4, random_state=1,\n",
        "                        activation='logistic',\n",
        "                        learning_rate_init=.1)\n",
        "    mlp.fit(X_train_fold, y_train_fold)\n",
        "    mlpfold.append(mlp)\n",
        "    pred = mlp.predict(X_val_fold)\n",
        "    accuracy = metrics.accuracy_score(y_val_fold,pred)\n",
        "    print(f\"Validation accuracy for fold {fold_num}: {accuracy}\")\n",
        "    accuracies.append(accuracy)\n",
        "    fold_num += 1\n",
        "###find the highest one to be fold 2\n",
        "mlp = mlpfold[1]\n",
        "print_four_metrics(target_test, mlp.predict(test))"
      ],
      "metadata": {
        "colab": {
          "base_uri": "https://localhost:8080/"
        },
        "id": "XZLBXpyzsR3d",
        "outputId": "7cb9688a-c235-4c01-b98b-3fe30ec9a55c"
      },
      "execution_count": null,
      "outputs": [
        {
          "output_type": "stream",
          "name": "stderr",
          "text": [
            "/usr/local/lib/python3.10/dist-packages/sklearn/neural_network/_multilayer_perceptron.py:693: UserWarning: Training interrupted by user.\n",
            "  warnings.warn(\"Training interrupted by user.\")\n"
          ]
        },
        {
          "output_type": "stream",
          "name": "stdout",
          "text": [
            "Validation accuracy for fold 1: 0.7251785714285715\n"
          ]
        },
        {
          "output_type": "stream",
          "name": "stderr",
          "text": [
            "/usr/local/lib/python3.10/dist-packages/sklearn/neural_network/_multilayer_perceptron.py:693: UserWarning: Training interrupted by user.\n",
            "  warnings.warn(\"Training interrupted by user.\")\n"
          ]
        },
        {
          "output_type": "stream",
          "name": "stdout",
          "text": [
            "Validation accuracy for fold 2: 0.7316071428571429\n"
          ]
        },
        {
          "output_type": "stream",
          "name": "stderr",
          "text": [
            "/usr/local/lib/python3.10/dist-packages/sklearn/neural_network/_multilayer_perceptron.py:693: UserWarning: Training interrupted by user.\n",
            "  warnings.warn(\"Training interrupted by user.\")\n"
          ]
        },
        {
          "output_type": "stream",
          "name": "stdout",
          "text": [
            "Validation accuracy for fold 3: 0.7248214285714286\n"
          ]
        },
        {
          "output_type": "stream",
          "name": "stderr",
          "text": [
            "/usr/local/lib/python3.10/dist-packages/sklearn/neural_network/_multilayer_perceptron.py:693: UserWarning: Training interrupted by user.\n",
            "  warnings.warn(\"Training interrupted by user.\")\n"
          ]
        },
        {
          "output_type": "stream",
          "name": "stdout",
          "text": [
            "Validation accuracy for fold 4: 0.7196428571428571\n"
          ]
        }
      ]
    },
    {
      "cell_type": "code",
      "source": [
        "###comparing multiple architecture\n",
        "hidden_layer_architecture = (100,100)\n",
        "mlp = MLPClassifier(hidden_layer_sizes=hidden_layer_architecture,\n",
        "                    max_iter=100, alpha=1e-4,\n",
        "                    solver='sgd', verbose=True, tol=1e-4, random_state=1,\n",
        "                    activation='logistic',\n",
        "                    learning_rate_init=.1)\n",
        "mlp.fit(train, target)\n",
        "print('\\ntraining score: {}'.format(mlp.score(train, target)))\n",
        "print('test score: {}'.format(mlp.score(test, target_test)))\n",
        "#pred=mlp.predict_proba(test)[:,1]\n",
        "#print(pred)\n",
        "#pred=mlp.predict(test)\n",
        "#print(pred)\n",
        "#cut_off->0.5\n",
        "print_four_metrics(target_test, mlp.predict(test))\n",
        "plot_roc_curve(target_test, mlp.predict_proba(test)[:,1])"
      ],
      "metadata": {
        "colab": {
          "base_uri": "https://localhost:8080/",
          "height": 1000
        },
        "id": "aIB72yoGhdFc",
        "outputId": "434f2e7f-9f3c-4fec-b021-ff7efcc33dd4"
      },
      "execution_count": null,
      "outputs": [
        {
          "output_type": "stream",
          "name": "stdout",
          "text": [
            "Iteration 1, loss = 0.66618691\n",
            "Iteration 2, loss = 0.62064976\n",
            "Iteration 3, loss = 0.59541357\n",
            "Iteration 4, loss = 0.58012855\n",
            "Iteration 5, loss = 0.57300011\n",
            "Iteration 6, loss = 0.57134018\n",
            "Iteration 7, loss = 0.56875876\n",
            "Iteration 8, loss = 0.56732322\n",
            "Iteration 9, loss = 0.56589252\n",
            "Iteration 10, loss = 0.56474923\n",
            "Iteration 11, loss = 0.56380344\n",
            "Iteration 12, loss = 0.56255246\n",
            "Iteration 13, loss = 0.56076318\n",
            "Iteration 14, loss = 0.55979637\n",
            "Iteration 15, loss = 0.55819738\n",
            "Iteration 16, loss = 0.55680141\n",
            "Iteration 17, loss = 0.55559168\n",
            "Iteration 18, loss = 0.55403524\n",
            "Iteration 19, loss = 0.55313593\n",
            "Iteration 20, loss = 0.55202026\n",
            "Iteration 21, loss = 0.55110504\n",
            "Iteration 22, loss = 0.55022502\n",
            "Iteration 23, loss = 0.54930938\n",
            "Iteration 24, loss = 0.54891290\n",
            "Iteration 25, loss = 0.54794533\n",
            "Iteration 26, loss = 0.54788496\n",
            "Iteration 27, loss = 0.54688844\n",
            "Iteration 28, loss = 0.54640358\n",
            "Iteration 29, loss = 0.54622292\n",
            "Iteration 30, loss = 0.54578832\n",
            "Iteration 31, loss = 0.54564041\n",
            "Iteration 32, loss = 0.54527719\n",
            "Iteration 33, loss = 0.54493837\n",
            "Iteration 34, loss = 0.54467614\n",
            "Iteration 35, loss = 0.54475668\n",
            "Iteration 36, loss = 0.54436222\n",
            "Iteration 37, loss = 0.54434577\n",
            "Iteration 38, loss = 0.54443172\n",
            "Iteration 39, loss = 0.54397677\n",
            "Iteration 40, loss = 0.54372518\n",
            "Iteration 41, loss = 0.54389592\n",
            "Iteration 42, loss = 0.54346987\n",
            "Iteration 43, loss = 0.54385465\n",
            "Iteration 44, loss = 0.54334100\n",
            "Iteration 45, loss = 0.54317148\n",
            "Iteration 46, loss = 0.54324038\n",
            "Iteration 47, loss = 0.54322913\n",
            "Iteration 48, loss = 0.54312791\n",
            "Iteration 49, loss = 0.54274080\n",
            "Iteration 50, loss = 0.54314510\n",
            "Iteration 51, loss = 0.54273475\n",
            "Iteration 52, loss = 0.54250556\n",
            "Iteration 53, loss = 0.54286775\n",
            "Iteration 54, loss = 0.54254495\n",
            "Iteration 55, loss = 0.54228290\n",
            "Iteration 56, loss = 0.54233794\n",
            "Iteration 57, loss = 0.54252562\n",
            "Iteration 58, loss = 0.54255505\n",
            "Iteration 59, loss = 0.54219010\n",
            "Iteration 60, loss = 0.54223951\n",
            "Iteration 61, loss = 0.54180825\n",
            "Iteration 62, loss = 0.54191432\n",
            "Iteration 63, loss = 0.54195427\n",
            "Iteration 64, loss = 0.54220419\n",
            "Iteration 65, loss = 0.54245833\n",
            "Iteration 66, loss = 0.54186525\n",
            "Iteration 67, loss = 0.54177308\n",
            "Iteration 68, loss = 0.54151624\n",
            "Iteration 69, loss = 0.54214947\n",
            "Iteration 70, loss = 0.54182074\n",
            "Iteration 71, loss = 0.54144390\n",
            "Iteration 72, loss = 0.54152620\n",
            "Iteration 73, loss = 0.54195492\n",
            "Iteration 74, loss = 0.54113457\n",
            "Iteration 75, loss = 0.54201320\n",
            "Iteration 76, loss = 0.54118598\n",
            "Iteration 77, loss = 0.54127642\n",
            "Iteration 78, loss = 0.54136903\n",
            "Iteration 79, loss = 0.54139505\n",
            "Iteration 80, loss = 0.54123178\n",
            "Iteration 81, loss = 0.54135326\n",
            "Iteration 82, loss = 0.54125086\n",
            "Iteration 83, loss = 0.54118428\n",
            "Iteration 84, loss = 0.54080409\n",
            "Iteration 85, loss = 0.54094829\n",
            "Iteration 86, loss = 0.54097245\n",
            "Iteration 87, loss = 0.54126392\n",
            "Iteration 88, loss = 0.54096096\n",
            "Iteration 89, loss = 0.54111621\n",
            "Iteration 90, loss = 0.54089598\n",
            "Iteration 91, loss = 0.54080628\n",
            "Iteration 92, loss = 0.54090897\n",
            "Iteration 93, loss = 0.54045863\n",
            "Iteration 94, loss = 0.54085343\n",
            "Iteration 95, loss = 0.54096523\n",
            "Iteration 96, loss = 0.54066085\n",
            "Iteration 97, loss = 0.54097188\n",
            "Iteration 98, loss = 0.54100184\n",
            "Iteration 99, loss = 0.54073701\n",
            "Iteration 100, loss = 0.54040822\n"
          ]
        },
        {
          "output_type": "stream",
          "name": "stderr",
          "text": [
            "/usr/local/lib/python3.10/dist-packages/sklearn/neural_network/_multilayer_perceptron.py:686: ConvergenceWarning: Stochastic Optimizer: Maximum iterations (100) reached and the optimization hasn't converged yet.\n",
            "  warnings.warn(\n"
          ]
        },
        {
          "output_type": "stream",
          "name": "stdout",
          "text": [
            "\n",
            "training score: 0.7348928571428571\n",
            "test score: 0.7361428571428571\n",
            "Accuracy:    0.736143\n",
            "Precision:   0.739809\n",
            "Recall:      0.729892\n",
            "F1 Score:    0.734817\n"
          ]
        },
        {
          "output_type": "display_data",
          "data": {
            "text/plain": [
              "<Figure size 640x480 with 1 Axes>"
            ],
            "image/png": "[encoded data removed]"
          },
          "metadata": {}
        },
        {
          "output_type": "stream",
          "name": "stdout",
          "text": [
            "\n",
            "AUC of ROC:  0.8020482243866185\n"
          ]
        }
      ]
    },
    {
      "cell_type": "code",
      "source": [
        "###the results\n",
        " (25,):\n",
        "Accuracy:    0.737286\n",
        "Precision:   0.767834\n",
        "Recall:      0.681546\n",
        "F1 Score:    0.722121\n",
        "training score: 0.7333571428571428\n",
        "test score: 0.7372857142857143\n",
        "(25,25):\n",
        "Accuracy:    0.739500\n",
        "Precision:   0.770890\n",
        "Recall:      0.682829\n",
        "F1 Score:    0.724193\n",
        "training score: 0.7353392857142858\n",
        "test score: 0.7395\n",
        "(25,25,25,25):\n",
        "Accuracy:    0.737643\n",
        "Precision:   0.763953\n",
        "Recall:      0.689104\n",
        "F1 Score:    0.724601\n",
        "training score: 0.7353214285714286\n",
        "test score: 0.7376428571428572\n",
        "(5,5):\n",
        "Accuracy:    0.738143\n",
        "Precision:   0.757305\n",
        "Recall:      0.702225\n",
        "F1 Score:    0.728726\n",
        "training score: 0.7343928571428572\n",
        "test score: 0.7381428571428571\n",
        "(100,100):\n",
        "Accuracy:    0.736143\n",
        "Precision:   0.739809\n",
        "Recall:      0.729892\n",
        "F1 Score:    0.734817\n",
        "training score: 0.7348928571428571\n",
        "test score: 0.7361428571428571"
      ],
      "metadata": {
        "id": "C7vewKKz2zCQ"
      },
      "execution_count": null,
      "outputs": []
    }
  ]
}